{
  "cells": [
    {
      "cell_type": "markdown",
      "id": "6894e097",
      "metadata": {
        "id": "6894e097"
      },
      "source": [
        "# Estimating Personal Spending Budget\n",
        "\n",
        "---\n",
        "\n",
        "\n",
        "## **Formula**\n",
        "The moving average smooths short-term fluctuations and highlights long-term trends or cycles.\n",
        "The moving average (MA) formula with a rolling window size \\( n \\) given by:\n",
        "\n",
        "\\begin{equation}\n",
        "\\text{MA}_n(t) = \\frac{1}{n} \\sum_{i=0}^{n-1} X_{t-i}\n",
        "\\end{equation}\n",
        "\n",
        "\\begin{align}\n",
        "{MA}_n(t)\n",
        "  \\qquad\\text{is moving average at \\( t \\) with window size \\( n \\)} \\\\\n",
        "X_{t-i}\n",
        "  \\qquad\\text{represents the value when \\( t-i \\)} \\\\\n",
        "n\n",
        "  \\qquad\\text{is the total period in the moving average window.}\n",
        "\\end{align}\n",
        "\n",
        "## **Implementation**\n",
        "\n",
        "For a 2-month rolling window size, the moving average for the month \\( t \\) defined as:\n",
        "\n",
        "\\begin{equation}\n",
        "\\text{MA}_2(t) = \\frac{1}{2} \\left( X_t + X_{t-1} \\right)\n",
        "\\end{equation}\n",
        "\n",
        "This formula is applied to each month in the dataset to smooth monthly expenditures and predict the budget for the following month.\n"
      ]
    },
    {
      "cell_type": "markdown",
      "source": [
        "# **Import Library**"
      ],
      "metadata": {
        "id": "g3QyRZYWQsBg"
      },
      "id": "g3QyRZYWQsBg"
    },
    {
      "cell_type": "code",
      "source": [
        "import csv\n",
        "import pickle\n",
        "import json\n",
        "import numpy as np\n",
        "import tensorflow as tf\n",
        "import matplotlib.pyplot as plt\n",
        "import pandas as pd\n",
        "from dataclasses import dataclass\n",
        "from absl import logging\n",
        "import copy\n",
        "import math\n",
        "%matplotlib inline\n",
        "logging.set_verbosity(logging.ERROR)\n",
        "\n",
        "\n",
        "from sklearn.model_selection import train_test_split\n",
        "from sklearn.preprocessing import StandardScaler\n",
        "from sklearn.neighbors import KNeighborsClassifier\n",
        "from sklearn.metrics import accuracy_score, confusion_matrix, classification_report\n",
        "from sklearn.impute import SimpleImputer\n",
        "from sklearn.metrics import mean_squared_error\n",
        "from sklearn.metrics import mean_absolute_error\n",
        "from sklearn.metrics import mean_absolute_error, mean_squared_error, r2_score\n",
        "\n",
        "\n",
        "import seaborn as sns\n",
        "import matplotlib.pyplot as plt\n",
        "import matplotlib.dates as mdates\n",
        "from sklearn.preprocessing import MinMaxScaler\n",
        "\n",
        "from sklearn.preprocessing import OneHotEncoder\n",
        "from sklearn.model_selection import train_test_split\n",
        "import tensorflow as tf\n",
        "from tensorflow.keras.models import Sequential\n",
        "from tensorflow.keras.layers import Dense\n",
        "from tensorflow.keras.layers import Layer"
      ],
      "metadata": {
        "id": "xPHdKz-4_lM0"
      },
      "id": "xPHdKz-4_lM0",
      "execution_count": 89,
      "outputs": []
    },
    {
      "cell_type": "code",
      "source": [
        "# Load data csv\n",
        "df = pd.read_csv('/content/Personal Transactions - Gebung.csv')"
      ],
      "metadata": {
        "id": "GOFpa8VT_tPc"
      },
      "id": "GOFpa8VT_tPc",
      "execution_count": 90,
      "outputs": []
    },
    {
      "cell_type": "code",
      "source": [
        "# Load the head data\n",
        "df.head(10)"
      ],
      "metadata": {
        "colab": {
          "base_uri": "https://localhost:8080/",
          "height": 362
        },
        "id": "2J0fcOfs_xUM",
        "outputId": "2485911b-cc11-40d9-909e-3a8d3f9442c8"
      },
      "id": "2J0fcOfs_xUM",
      "execution_count": 91,
      "outputs": [
        {
          "output_type": "execute_result",
          "data": {
            "text/plain": [
              "       Date        Category     Description        Amount     Type\n",
              "0  6/1/2024            Food            Sapi     15,000.00  Expense\n",
              "1  6/1/2024       Utilities           Galon     19,000.00  Expense\n",
              "2  6/1/2024    Mobile Phone           Pulsa     20,000.00  Expense\n",
              "3  6/2/2024       Groceries   Bahan makanan     56,000.00  Expense\n",
              "4  6/2/2024            Rent      Bayar kost  1,000,000.00  Expense\n",
              "5  6/2/2024   Entertainment           IQiyl      2,000.00  Expense\n",
              "6  6/3/2024            Food        Ketoprak      9,000.00  Expense\n",
              "7  6/4/2024        Shopping          Sepatu     35,000.00  Expense\n",
              "8  6/4/2024           Other  Gaji Freelance    100,000.00   Income\n",
              "9  6/5/2024  Transportation    Top up Gopay     50,000.00  Expense"
            ],
            "text/html": [
              "\n",
              "  <div id=\"df-d384daa8-ef0e-4f4b-ab34-ff18d909ab67\" class=\"colab-df-container\">\n",
              "    <div>\n",
              "<style scoped>\n",
              "    .dataframe tbody tr th:only-of-type {\n",
              "        vertical-align: middle;\n",
              "    }\n",
              "\n",
              "    .dataframe tbody tr th {\n",
              "        vertical-align: top;\n",
              "    }\n",
              "\n",
              "    .dataframe thead th {\n",
              "        text-align: right;\n",
              "    }\n",
              "</style>\n",
              "<table border=\"1\" class=\"dataframe\">\n",
              "  <thead>\n",
              "    <tr style=\"text-align: right;\">\n",
              "      <th></th>\n",
              "      <th>Date</th>\n",
              "      <th>Category</th>\n",
              "      <th>Description</th>\n",
              "      <th>Amount</th>\n",
              "      <th>Type</th>\n",
              "    </tr>\n",
              "  </thead>\n",
              "  <tbody>\n",
              "    <tr>\n",
              "      <th>0</th>\n",
              "      <td>6/1/2024</td>\n",
              "      <td>Food</td>\n",
              "      <td>Sapi</td>\n",
              "      <td>15,000.00</td>\n",
              "      <td>Expense</td>\n",
              "    </tr>\n",
              "    <tr>\n",
              "      <th>1</th>\n",
              "      <td>6/1/2024</td>\n",
              "      <td>Utilities</td>\n",
              "      <td>Galon</td>\n",
              "      <td>19,000.00</td>\n",
              "      <td>Expense</td>\n",
              "    </tr>\n",
              "    <tr>\n",
              "      <th>2</th>\n",
              "      <td>6/1/2024</td>\n",
              "      <td>Mobile Phone</td>\n",
              "      <td>Pulsa</td>\n",
              "      <td>20,000.00</td>\n",
              "      <td>Expense</td>\n",
              "    </tr>\n",
              "    <tr>\n",
              "      <th>3</th>\n",
              "      <td>6/2/2024</td>\n",
              "      <td>Groceries</td>\n",
              "      <td>Bahan makanan</td>\n",
              "      <td>56,000.00</td>\n",
              "      <td>Expense</td>\n",
              "    </tr>\n",
              "    <tr>\n",
              "      <th>4</th>\n",
              "      <td>6/2/2024</td>\n",
              "      <td>Rent</td>\n",
              "      <td>Bayar kost</td>\n",
              "      <td>1,000,000.00</td>\n",
              "      <td>Expense</td>\n",
              "    </tr>\n",
              "    <tr>\n",
              "      <th>5</th>\n",
              "      <td>6/2/2024</td>\n",
              "      <td>Entertainment</td>\n",
              "      <td>IQiyl</td>\n",
              "      <td>2,000.00</td>\n",
              "      <td>Expense</td>\n",
              "    </tr>\n",
              "    <tr>\n",
              "      <th>6</th>\n",
              "      <td>6/3/2024</td>\n",
              "      <td>Food</td>\n",
              "      <td>Ketoprak</td>\n",
              "      <td>9,000.00</td>\n",
              "      <td>Expense</td>\n",
              "    </tr>\n",
              "    <tr>\n",
              "      <th>7</th>\n",
              "      <td>6/4/2024</td>\n",
              "      <td>Shopping</td>\n",
              "      <td>Sepatu</td>\n",
              "      <td>35,000.00</td>\n",
              "      <td>Expense</td>\n",
              "    </tr>\n",
              "    <tr>\n",
              "      <th>8</th>\n",
              "      <td>6/4/2024</td>\n",
              "      <td>Other</td>\n",
              "      <td>Gaji Freelance</td>\n",
              "      <td>100,000.00</td>\n",
              "      <td>Income</td>\n",
              "    </tr>\n",
              "    <tr>\n",
              "      <th>9</th>\n",
              "      <td>6/5/2024</td>\n",
              "      <td>Transportation</td>\n",
              "      <td>Top up Gopay</td>\n",
              "      <td>50,000.00</td>\n",
              "      <td>Expense</td>\n",
              "    </tr>\n",
              "  </tbody>\n",
              "</table>\n",
              "</div>\n",
              "    <div class=\"colab-df-buttons\">\n",
              "\n",
              "  <div class=\"colab-df-container\">\n",
              "    <button class=\"colab-df-convert\" onclick=\"convertToInteractive('df-d384daa8-ef0e-4f4b-ab34-ff18d909ab67')\"\n",
              "            title=\"Convert this dataframe to an interactive table.\"\n",
              "            style=\"display:none;\">\n",
              "\n",
              "  <svg xmlns=\"http://www.w3.org/2000/svg\" height=\"24px\" viewBox=\"0 -960 960 960\">\n",
              "    <path d=\"M120-120v-720h720v720H120Zm60-500h600v-160H180v160Zm220 220h160v-160H400v160Zm0 220h160v-160H400v160ZM180-400h160v-160H180v160Zm440 0h160v-160H620v160ZM180-180h160v-160H180v160Zm440 0h160v-160H620v160Z\"/>\n",
              "  </svg>\n",
              "    </button>\n",
              "\n",
              "  <style>\n",
              "    .colab-df-container {\n",
              "      display:flex;\n",
              "      gap: 12px;\n",
              "    }\n",
              "\n",
              "    .colab-df-convert {\n",
              "      background-color: #E8F0FE;\n",
              "      border: none;\n",
              "      border-radius: 50%;\n",
              "      cursor: pointer;\n",
              "      display: none;\n",
              "      fill: #1967D2;\n",
              "      height: 32px;\n",
              "      padding: 0 0 0 0;\n",
              "      width: 32px;\n",
              "    }\n",
              "\n",
              "    .colab-df-convert:hover {\n",
              "      background-color: #E2EBFA;\n",
              "      box-shadow: 0px 1px 2px rgba(60, 64, 67, 0.3), 0px 1px 3px 1px rgba(60, 64, 67, 0.15);\n",
              "      fill: #174EA6;\n",
              "    }\n",
              "\n",
              "    .colab-df-buttons div {\n",
              "      margin-bottom: 4px;\n",
              "    }\n",
              "\n",
              "    [theme=dark] .colab-df-convert {\n",
              "      background-color: #3B4455;\n",
              "      fill: #D2E3FC;\n",
              "    }\n",
              "\n",
              "    [theme=dark] .colab-df-convert:hover {\n",
              "      background-color: #434B5C;\n",
              "      box-shadow: 0px 1px 3px 1px rgba(0, 0, 0, 0.15);\n",
              "      filter: drop-shadow(0px 1px 2px rgba(0, 0, 0, 0.3));\n",
              "      fill: #FFFFFF;\n",
              "    }\n",
              "  </style>\n",
              "\n",
              "    <script>\n",
              "      const buttonEl =\n",
              "        document.querySelector('#df-d384daa8-ef0e-4f4b-ab34-ff18d909ab67 button.colab-df-convert');\n",
              "      buttonEl.style.display =\n",
              "        google.colab.kernel.accessAllowed ? 'block' : 'none';\n",
              "\n",
              "      async function convertToInteractive(key) {\n",
              "        const element = document.querySelector('#df-d384daa8-ef0e-4f4b-ab34-ff18d909ab67');\n",
              "        const dataTable =\n",
              "          await google.colab.kernel.invokeFunction('convertToInteractive',\n",
              "                                                    [key], {});\n",
              "        if (!dataTable) return;\n",
              "\n",
              "        const docLinkHtml = 'Like what you see? Visit the ' +\n",
              "          '<a target=\"_blank\" href=https://colab.research.google.com/notebooks/data_table.ipynb>data table notebook</a>'\n",
              "          + ' to learn more about interactive tables.';\n",
              "        element.innerHTML = '';\n",
              "        dataTable['output_type'] = 'display_data';\n",
              "        await google.colab.output.renderOutput(dataTable, element);\n",
              "        const docLink = document.createElement('div');\n",
              "        docLink.innerHTML = docLinkHtml;\n",
              "        element.appendChild(docLink);\n",
              "      }\n",
              "    </script>\n",
              "  </div>\n",
              "\n",
              "\n",
              "<div id=\"df-c844392d-0456-4d0b-af7c-1cab91309751\">\n",
              "  <button class=\"colab-df-quickchart\" onclick=\"quickchart('df-c844392d-0456-4d0b-af7c-1cab91309751')\"\n",
              "            title=\"Suggest charts\"\n",
              "            style=\"display:none;\">\n",
              "\n",
              "<svg xmlns=\"http://www.w3.org/2000/svg\" height=\"24px\"viewBox=\"0 0 24 24\"\n",
              "     width=\"24px\">\n",
              "    <g>\n",
              "        <path d=\"M19 3H5c-1.1 0-2 .9-2 2v14c0 1.1.9 2 2 2h14c1.1 0 2-.9 2-2V5c0-1.1-.9-2-2-2zM9 17H7v-7h2v7zm4 0h-2V7h2v10zm4 0h-2v-4h2v4z\"/>\n",
              "    </g>\n",
              "</svg>\n",
              "  </button>\n",
              "\n",
              "<style>\n",
              "  .colab-df-quickchart {\n",
              "      --bg-color: #E8F0FE;\n",
              "      --fill-color: #1967D2;\n",
              "      --hover-bg-color: #E2EBFA;\n",
              "      --hover-fill-color: #174EA6;\n",
              "      --disabled-fill-color: #AAA;\n",
              "      --disabled-bg-color: #DDD;\n",
              "  }\n",
              "\n",
              "  [theme=dark] .colab-df-quickchart {\n",
              "      --bg-color: #3B4455;\n",
              "      --fill-color: #D2E3FC;\n",
              "      --hover-bg-color: #434B5C;\n",
              "      --hover-fill-color: #FFFFFF;\n",
              "      --disabled-bg-color: #3B4455;\n",
              "      --disabled-fill-color: #666;\n",
              "  }\n",
              "\n",
              "  .colab-df-quickchart {\n",
              "    background-color: var(--bg-color);\n",
              "    border: none;\n",
              "    border-radius: 50%;\n",
              "    cursor: pointer;\n",
              "    display: none;\n",
              "    fill: var(--fill-color);\n",
              "    height: 32px;\n",
              "    padding: 0;\n",
              "    width: 32px;\n",
              "  }\n",
              "\n",
              "  .colab-df-quickchart:hover {\n",
              "    background-color: var(--hover-bg-color);\n",
              "    box-shadow: 0 1px 2px rgba(60, 64, 67, 0.3), 0 1px 3px 1px rgba(60, 64, 67, 0.15);\n",
              "    fill: var(--button-hover-fill-color);\n",
              "  }\n",
              "\n",
              "  .colab-df-quickchart-complete:disabled,\n",
              "  .colab-df-quickchart-complete:disabled:hover {\n",
              "    background-color: var(--disabled-bg-color);\n",
              "    fill: var(--disabled-fill-color);\n",
              "    box-shadow: none;\n",
              "  }\n",
              "\n",
              "  .colab-df-spinner {\n",
              "    border: 2px solid var(--fill-color);\n",
              "    border-color: transparent;\n",
              "    border-bottom-color: var(--fill-color);\n",
              "    animation:\n",
              "      spin 1s steps(1) infinite;\n",
              "  }\n",
              "\n",
              "  @keyframes spin {\n",
              "    0% {\n",
              "      border-color: transparent;\n",
              "      border-bottom-color: var(--fill-color);\n",
              "      border-left-color: var(--fill-color);\n",
              "    }\n",
              "    20% {\n",
              "      border-color: transparent;\n",
              "      border-left-color: var(--fill-color);\n",
              "      border-top-color: var(--fill-color);\n",
              "    }\n",
              "    30% {\n",
              "      border-color: transparent;\n",
              "      border-left-color: var(--fill-color);\n",
              "      border-top-color: var(--fill-color);\n",
              "      border-right-color: var(--fill-color);\n",
              "    }\n",
              "    40% {\n",
              "      border-color: transparent;\n",
              "      border-right-color: var(--fill-color);\n",
              "      border-top-color: var(--fill-color);\n",
              "    }\n",
              "    60% {\n",
              "      border-color: transparent;\n",
              "      border-right-color: var(--fill-color);\n",
              "    }\n",
              "    80% {\n",
              "      border-color: transparent;\n",
              "      border-right-color: var(--fill-color);\n",
              "      border-bottom-color: var(--fill-color);\n",
              "    }\n",
              "    90% {\n",
              "      border-color: transparent;\n",
              "      border-bottom-color: var(--fill-color);\n",
              "    }\n",
              "  }\n",
              "</style>\n",
              "\n",
              "  <script>\n",
              "    async function quickchart(key) {\n",
              "      const quickchartButtonEl =\n",
              "        document.querySelector('#' + key + ' button');\n",
              "      quickchartButtonEl.disabled = true;  // To prevent multiple clicks.\n",
              "      quickchartButtonEl.classList.add('colab-df-spinner');\n",
              "      try {\n",
              "        const charts = await google.colab.kernel.invokeFunction(\n",
              "            'suggestCharts', [key], {});\n",
              "      } catch (error) {\n",
              "        console.error('Error during call to suggestCharts:', error);\n",
              "      }\n",
              "      quickchartButtonEl.classList.remove('colab-df-spinner');\n",
              "      quickchartButtonEl.classList.add('colab-df-quickchart-complete');\n",
              "    }\n",
              "    (() => {\n",
              "      let quickchartButtonEl =\n",
              "        document.querySelector('#df-c844392d-0456-4d0b-af7c-1cab91309751 button');\n",
              "      quickchartButtonEl.style.display =\n",
              "        google.colab.kernel.accessAllowed ? 'block' : 'none';\n",
              "    })();\n",
              "  </script>\n",
              "</div>\n",
              "\n",
              "    </div>\n",
              "  </div>\n"
            ],
            "application/vnd.google.colaboratory.intrinsic+json": {
              "type": "dataframe",
              "variable_name": "df",
              "summary": "{\n  \"name\": \"df\",\n  \"rows\": 1858,\n  \"fields\": [\n    {\n      \"column\": \"Date\",\n      \"properties\": {\n        \"dtype\": \"object\",\n        \"num_unique_values\": 810,\n        \"samples\": [\n          \"2/3/2025\",\n          \"4/2/2026\",\n          \"1/14/2025\"\n        ],\n        \"semantic_type\": \"\",\n        \"description\": \"\"\n      }\n    },\n    {\n      \"column\": \"Category\",\n      \"properties\": {\n        \"dtype\": \"category\",\n        \"num_unique_values\": 10,\n        \"samples\": [\n          \"Transportation\",\n          \"Utilities\",\n          \"Entertainment\"\n        ],\n        \"semantic_type\": \"\",\n        \"description\": \"\"\n      }\n    },\n    {\n      \"column\": \"Description\",\n      \"properties\": {\n        \"dtype\": \"category\",\n        \"num_unique_values\": 80,\n        \"samples\": [\n          \"Service HP\",\n          \"Sapi\",\n          \"Utang bestie\"\n        ],\n        \"semantic_type\": \"\",\n        \"description\": \"\"\n      }\n    },\n    {\n      \"column\": \"Amount\",\n      \"properties\": {\n        \"dtype\": \"string\",\n        \"num_unique_values\": 1520,\n        \"samples\": [\n          \"139,851.00\",\n          \"10,406.00\",\n          \"44,426.00\"\n        ],\n        \"semantic_type\": \"\",\n        \"description\": \"\"\n      }\n    },\n    {\n      \"column\": \"Type\",\n      \"properties\": {\n        \"dtype\": \"category\",\n        \"num_unique_values\": 2,\n        \"samples\": [\n          \"Income\",\n          \"Expense\"\n        ],\n        \"semantic_type\": \"\",\n        \"description\": \"\"\n      }\n    }\n  ]\n}"
            }
          },
          "metadata": {},
          "execution_count": 91
        }
      ]
    },
    {
      "cell_type": "code",
      "source": [
        "# Load the data information\n",
        "print(df.info())"
      ],
      "metadata": {
        "colab": {
          "base_uri": "https://localhost:8080/"
        },
        "id": "bFnNpKvI_ztJ",
        "outputId": "760d409d-c23b-4932-f8f0-9903f21c1741"
      },
      "id": "bFnNpKvI_ztJ",
      "execution_count": 92,
      "outputs": [
        {
          "output_type": "stream",
          "name": "stdout",
          "text": [
            "<class 'pandas.core.frame.DataFrame'>\n",
            "RangeIndex: 1858 entries, 0 to 1857\n",
            "Data columns (total 5 columns):\n",
            " #   Column       Non-Null Count  Dtype \n",
            "---  ------       --------------  ----- \n",
            " 0   Date         1858 non-null   object\n",
            " 1   Category     1858 non-null   object\n",
            " 2   Description  1858 non-null   object\n",
            " 3   Amount       1858 non-null   object\n",
            " 4   Type         1858 non-null   object\n",
            "dtypes: object(5)\n",
            "memory usage: 72.7+ KB\n",
            "None\n"
          ]
        }
      ]
    },
    {
      "cell_type": "code",
      "source": [
        "# Load basic statistics\n",
        "print(df.describe())"
      ],
      "metadata": {
        "colab": {
          "base_uri": "https://localhost:8080/"
        },
        "id": "elV6PdBx_1ah",
        "outputId": "7e7e9080-3f94-4327-db9b-a7bc66959f3c"
      },
      "id": "elV6PdBx_1ah",
      "execution_count": 93,
      "outputs": [
        {
          "output_type": "stream",
          "name": "stdout",
          "text": [
            "            Date Category Description     Amount     Type\n",
            "count       1858     1858        1858       1858     1858\n",
            "unique       810       10          80       1520        2\n",
            "top     9/2/2024     Food         Bus  19,000.00  Expense\n",
            "freq           8      592         204         26     1800\n"
          ]
        }
      ]
    },
    {
      "cell_type": "code",
      "source": [
        "# Check the data\n",
        "print(df.info())"
      ],
      "metadata": {
        "colab": {
          "base_uri": "https://localhost:8080/"
        },
        "id": "BjuPwovc_26J",
        "outputId": "a1d2b8a9-9dd7-4d9e-c2a5-81f3a3b3086a"
      },
      "id": "BjuPwovc_26J",
      "execution_count": 94,
      "outputs": [
        {
          "output_type": "stream",
          "name": "stdout",
          "text": [
            "<class 'pandas.core.frame.DataFrame'>\n",
            "RangeIndex: 1858 entries, 0 to 1857\n",
            "Data columns (total 5 columns):\n",
            " #   Column       Non-Null Count  Dtype \n",
            "---  ------       --------------  ----- \n",
            " 0   Date         1858 non-null   object\n",
            " 1   Category     1858 non-null   object\n",
            " 2   Description  1858 non-null   object\n",
            " 3   Amount       1858 non-null   object\n",
            " 4   Type         1858 non-null   object\n",
            "dtypes: object(5)\n",
            "memory usage: 72.7+ KB\n",
            "None\n"
          ]
        }
      ]
    },
    {
      "cell_type": "code",
      "source": [
        "df['Amount'] = df['Amount'].str.replace(',', '')\n",
        "df['Amount'] = df['Amount'].astype(float)"
      ],
      "metadata": {
        "id": "zEuPXg6C_5De"
      },
      "id": "zEuPXg6C_5De",
      "execution_count": 95,
      "outputs": []
    },
    {
      "cell_type": "code",
      "source": [
        "# Check the data\n",
        "print(df.info())"
      ],
      "metadata": {
        "colab": {
          "base_uri": "https://localhost:8080/"
        },
        "id": "C5h5kSHC_73F",
        "outputId": "a504a8bb-3d63-447b-b7c9-00e493e9fe72"
      },
      "id": "C5h5kSHC_73F",
      "execution_count": 96,
      "outputs": [
        {
          "output_type": "stream",
          "name": "stdout",
          "text": [
            "<class 'pandas.core.frame.DataFrame'>\n",
            "RangeIndex: 1858 entries, 0 to 1857\n",
            "Data columns (total 5 columns):\n",
            " #   Column       Non-Null Count  Dtype  \n",
            "---  ------       --------------  -----  \n",
            " 0   Date         1858 non-null   object \n",
            " 1   Category     1858 non-null   object \n",
            " 2   Description  1858 non-null   object \n",
            " 3   Amount       1858 non-null   float64\n",
            " 4   Type         1858 non-null   object \n",
            "dtypes: float64(1), object(4)\n",
            "memory usage: 72.7+ KB\n",
            "None\n"
          ]
        }
      ]
    },
    {
      "cell_type": "code",
      "source": [
        "# Check for any missing value\n",
        "df.isna().sum()"
      ],
      "metadata": {
        "colab": {
          "base_uri": "https://localhost:8080/"
        },
        "id": "qhT1SZj1AAJ8",
        "outputId": "9c4db825-e6dd-4bcf-add9-1b867b6a176f"
      },
      "id": "qhT1SZj1AAJ8",
      "execution_count": 97,
      "outputs": [
        {
          "output_type": "execute_result",
          "data": {
            "text/plain": [
              "Date           0\n",
              "Category       0\n",
              "Description    0\n",
              "Amount         0\n",
              "Type           0\n",
              "dtype: int64"
            ]
          },
          "metadata": {},
          "execution_count": 97
        }
      ]
    },
    {
      "cell_type": "code",
      "source": [
        "# Change the Date row into datetime\n",
        "df['Date'] = pd.to_datetime(df['Date'])\n",
        "print(df[\"Date\"].dtypes)"
      ],
      "metadata": {
        "colab": {
          "base_uri": "https://localhost:8080/"
        },
        "id": "8FbB6SQqAKbm",
        "outputId": "091a6560-1a25-4cb8-f593-67930f25982a"
      },
      "id": "8FbB6SQqAKbm",
      "execution_count": 98,
      "outputs": [
        {
          "output_type": "stream",
          "name": "stdout",
          "text": [
            "datetime64[ns]\n"
          ]
        }
      ]
    },
    {
      "cell_type": "code",
      "source": [
        "df['Amount'].max()"
      ],
      "metadata": {
        "colab": {
          "base_uri": "https://localhost:8080/"
        },
        "id": "Lhft3RwOARIp",
        "outputId": "6d7c7126-e023-4d5a-de27-e625372f4fea"
      },
      "id": "Lhft3RwOARIp",
      "execution_count": 99,
      "outputs": [
        {
          "output_type": "execute_result",
          "data": {
            "text/plain": [
              "4750000.0"
            ]
          },
          "metadata": {},
          "execution_count": 99
        }
      ]
    },
    {
      "cell_type": "code",
      "source": [
        "df['Amount'].min()"
      ],
      "metadata": {
        "colab": {
          "base_uri": "https://localhost:8080/"
        },
        "id": "gHl_7IG-AT-1",
        "outputId": "ecd13f02-cfa8-49fc-ab4d-94bef8e51235"
      },
      "id": "gHl_7IG-AT-1",
      "execution_count": 100,
      "outputs": [
        {
          "output_type": "execute_result",
          "data": {
            "text/plain": [
              "500.0"
            ]
          },
          "metadata": {},
          "execution_count": 100
        }
      ]
    },
    {
      "cell_type": "code",
      "source": [
        "# Descriptive Statistics\n",
        "print(df.describe())\n",
        "\n",
        "# Missing Values\n",
        "print(df.isnull().sum())\n",
        "\n",
        "# Histogram\n",
        "df['Amount'].hist()\n",
        "plt.title('Histogram kolom_numerik')\n",
        "plt.xlabel('Nilai')\n",
        "plt.ylabel('Frekuensi')\n",
        "plt.show()\n",
        "\n",
        "# Box Plot\n",
        "sns.boxplot(x=df['Amount'])\n",
        "plt.title('Box Plot kolom_numerik')\n",
        "plt.show()"
      ],
      "metadata": {
        "colab": {
          "base_uri": "https://localhost:8080/",
          "height": 1000
        },
        "id": "ZpXzKawTAaZF",
        "outputId": "a4b35bee-a8b0-4a08-9f55-f2b66f19bcd2"
      },
      "id": "ZpXzKawTAaZF",
      "execution_count": 101,
      "outputs": [
        {
          "output_type": "stream",
          "name": "stdout",
          "text": [
            "                                Date        Amount\n",
            "count                           1858  1.858000e+03\n",
            "mean   2025-04-11 04:32:48.568353024  8.134605e+04\n",
            "min              2024-06-01 00:00:00  5.000000e+02\n",
            "25%              2024-12-09 06:00:00  2.112650e+04\n",
            "50%              2025-03-11 00:00:00  6.163550e+04\n",
            "75%              2025-06-18 00:00:00  1.009878e+05\n",
            "max              2026-08-19 00:00:00  4.750000e+06\n",
            "std                              NaN  1.894902e+05\n",
            "Date           0\n",
            "Category       0\n",
            "Description    0\n",
            "Amount         0\n",
            "Type           0\n",
            "dtype: int64\n"
          ]
        },
        {
          "output_type": "display_data",
          "data": {
            "text/plain": [
              "<Figure size 640x480 with 1 Axes>"
            ],
            "image/png": "[encoded data removed]"
          },
          "metadata": {}
        },
        {
          "output_type": "display_data",
          "data": {
            "text/plain": [
              "<Figure size 640x480 with 1 Axes>"
            ],
            "image/png": "[encoded data removed]"
          },
          "metadata": {}
        }
      ]
    },
    {
      "cell_type": "markdown",
      "source": [
        "# **Sum all the data by each month**"
      ],
      "metadata": {
        "id": "9RXKmKSdUaOt"
      },
      "id": "9RXKmKSdUaOt"
    },
    {
      "cell_type": "code",
      "source": [
        "df['Month'] = df['Date'].dt.to_period('M')"
      ],
      "metadata": {
        "id": "HgrF9ifdC1sX"
      },
      "id": "HgrF9ifdC1sX",
      "execution_count": 102,
      "outputs": []
    },
    {
      "cell_type": "code",
      "source": [
        "result = df.groupby('Month')['Amount'].sum().reset_index()"
      ],
      "metadata": {
        "id": "pmSDcrQAC_ie"
      },
      "id": "pmSDcrQAC_ie",
      "execution_count": 103,
      "outputs": []
    },
    {
      "cell_type": "code",
      "source": [
        "result"
      ],
      "metadata": {
        "colab": {
          "base_uri": "https://localhost:8080/",
          "height": 895
        },
        "id": "89X6fKg-DJdq",
        "outputId": "4a8de209-9a8c-45e4-fec4-5cbda5d0ad7e"
      },
      "id": "89X6fKg-DJdq",
      "execution_count": 104,
      "outputs": [
        {
          "output_type": "execute_result",
          "data": {
            "text/plain": [
              "      Month      Amount\n",
              "0   2024-06   5264714.0\n",
              "1   2024-07   8410999.0\n",
              "2   2024-08   3203499.0\n",
              "3   2024-09   7765956.0\n",
              "4   2024-10   4225275.0\n",
              "5   2024-11   6545435.0\n",
              "6   2024-12   7420712.0\n",
              "7   2025-01  12156877.0\n",
              "8   2025-02  20211520.0\n",
              "9   2025-03  12078638.0\n",
              "10  2025-04   7850744.0\n",
              "11  2025-05  13068743.0\n",
              "12  2025-06  10011863.0\n",
              "13  2025-07   4474214.0\n",
              "14  2025-08    748000.0\n",
              "15  2025-09   2097999.0\n",
              "16  2025-10   1572000.0\n",
              "17  2025-11   6179000.0\n",
              "18  2025-12    567000.0\n",
              "19  2026-01   2964270.0\n",
              "20  2026-02   2314286.0\n",
              "21  2026-03   2987107.0\n",
              "22  2026-04   1672132.0\n",
              "23  2026-05   1908967.0\n",
              "24  2026-06   1787828.0\n",
              "25  2026-07   2349724.0\n",
              "26  2026-08   1303468.0"
            ],
            "text/html": [
              "\n",
              "  <div id=\"df-be11ed9d-04f3-4d5f-bbe7-fc4c3030b673\" class=\"colab-df-container\">\n",
              "    <div>\n",
              "<style scoped>\n",
              "    .dataframe tbody tr th:only-of-type {\n",
              "        vertical-align: middle;\n",
              "    }\n",
              "\n",
              "    .dataframe tbody tr th {\n",
              "        vertical-align: top;\n",
              "    }\n",
              "\n",
              "    .dataframe thead th {\n",
              "        text-align: right;\n",
              "    }\n",
              "</style>\n",
              "<table border=\"1\" class=\"dataframe\">\n",
              "  <thead>\n",
              "    <tr style=\"text-align: right;\">\n",
              "      <th></th>\n",
              "      <th>Month</th>\n",
              "      <th>Amount</th>\n",
              "    </tr>\n",
              "  </thead>\n",
              "  <tbody>\n",
              "    <tr>\n",
              "      <th>0</th>\n",
              "      <td>2024-06</td>\n",
              "      <td>5264714.0</td>\n",
              "    </tr>\n",
              "    <tr>\n",
              "      <th>1</th>\n",
              "      <td>2024-07</td>\n",
              "      <td>8410999.0</td>\n",
              "    </tr>\n",
              "    <tr>\n",
              "      <th>2</th>\n",
              "      <td>2024-08</td>\n",
              "      <td>3203499.0</td>\n",
              "    </tr>\n",
              "    <tr>\n",
              "      <th>3</th>\n",
              "      <td>2024-09</td>\n",
              "      <td>7765956.0</td>\n",
              "    </tr>\n",
              "    <tr>\n",
              "      <th>4</th>\n",
              "      <td>2024-10</td>\n",
              "      <td>4225275.0</td>\n",
              "    </tr>\n",
              "    <tr>\n",
              "      <th>5</th>\n",
              "      <td>2024-11</td>\n",
              "      <td>6545435.0</td>\n",
              "    </tr>\n",
              "    <tr>\n",
              "      <th>6</th>\n",
              "      <td>2024-12</td>\n",
              "      <td>7420712.0</td>\n",
              "    </tr>\n",
              "    <tr>\n",
              "      <th>7</th>\n",
              "      <td>2025-01</td>\n",
              "      <td>12156877.0</td>\n",
              "    </tr>\n",
              "    <tr>\n",
              "      <th>8</th>\n",
              "      <td>2025-02</td>\n",
              "      <td>20211520.0</td>\n",
              "    </tr>\n",
              "    <tr>\n",
              "      <th>9</th>\n",
              "      <td>2025-03</td>\n",
              "      <td>12078638.0</td>\n",
              "    </tr>\n",
              "    <tr>\n",
              "      <th>10</th>\n",
              "      <td>2025-04</td>\n",
              "      <td>7850744.0</td>\n",
              "    </tr>\n",
              "    <tr>\n",
              "      <th>11</th>\n",
              "      <td>2025-05</td>\n",
              "      <td>13068743.0</td>\n",
              "    </tr>\n",
              "    <tr>\n",
              "      <th>12</th>\n",
              "      <td>2025-06</td>\n",
              "      <td>10011863.0</td>\n",
              "    </tr>\n",
              "    <tr>\n",
              "      <th>13</th>\n",
              "      <td>2025-07</td>\n",
              "      <td>4474214.0</td>\n",
              "    </tr>\n",
              "    <tr>\n",
              "      <th>14</th>\n",
              "      <td>2025-08</td>\n",
              "      <td>748000.0</td>\n",
              "    </tr>\n",
              "    <tr>\n",
              "      <th>15</th>\n",
              "      <td>2025-09</td>\n",
              "      <td>2097999.0</td>\n",
              "    </tr>\n",
              "    <tr>\n",
              "      <th>16</th>\n",
              "      <td>2025-10</td>\n",
              "      <td>1572000.0</td>\n",
              "    </tr>\n",
              "    <tr>\n",
              "      <th>17</th>\n",
              "      <td>2025-11</td>\n",
              "      <td>6179000.0</td>\n",
              "    </tr>\n",
              "    <tr>\n",
              "      <th>18</th>\n",
              "      <td>2025-12</td>\n",
              "      <td>567000.0</td>\n",
              "    </tr>\n",
              "    <tr>\n",
              "      <th>19</th>\n",
              "      <td>2026-01</td>\n",
              "      <td>2964270.0</td>\n",
              "    </tr>\n",
              "    <tr>\n",
              "      <th>20</th>\n",
              "      <td>2026-02</td>\n",
              "      <td>2314286.0</td>\n",
              "    </tr>\n",
              "    <tr>\n",
              "      <th>21</th>\n",
              "      <td>2026-03</td>\n",
              "      <td>2987107.0</td>\n",
              "    </tr>\n",
              "    <tr>\n",
              "      <th>22</th>\n",
              "      <td>2026-04</td>\n",
              "      <td>1672132.0</td>\n",
              "    </tr>\n",
              "    <tr>\n",
              "      <th>23</th>\n",
              "      <td>2026-05</td>\n",
              "      <td>1908967.0</td>\n",
              "    </tr>\n",
              "    <tr>\n",
              "      <th>24</th>\n",
              "      <td>2026-06</td>\n",
              "      <td>1787828.0</td>\n",
              "    </tr>\n",
              "    <tr>\n",
              "      <th>25</th>\n",
              "      <td>2026-07</td>\n",
              "      <td>2349724.0</td>\n",
              "    </tr>\n",
              "    <tr>\n",
              "      <th>26</th>\n",
              "      <td>2026-08</td>\n",
              "      <td>1303468.0</td>\n",
              "    </tr>\n",
              "  </tbody>\n",
              "</table>\n",
              "</div>\n",
              "    <div class=\"colab-df-buttons\">\n",
              "\n",
              "  <div class=\"colab-df-container\">\n",
              "    <button class=\"colab-df-convert\" onclick=\"convertToInteractive('df-be11ed9d-04f3-4d5f-bbe7-fc4c3030b673')\"\n",
              "            title=\"Convert this dataframe to an interactive table.\"\n",
              "            style=\"display:none;\">\n",
              "\n",
              "  <svg xmlns=\"http://www.w3.org/2000/svg\" height=\"24px\" viewBox=\"0 -960 960 960\">\n",
              "    <path d=\"M120-120v-720h720v720H120Zm60-500h600v-160H180v160Zm220 220h160v-160H400v160Zm0 220h160v-160H400v160ZM180-400h160v-160H180v160Zm440 0h160v-160H620v160ZM180-180h160v-160H180v160Zm440 0h160v-160H620v160Z\"/>\n",
              "  </svg>\n",
              "    </button>\n",
              "\n",
              "  <style>\n",
              "    .colab-df-container {\n",
              "      display:flex;\n",
              "      gap: 12px;\n",
              "    }\n",
              "\n",
              "    .colab-df-convert {\n",
              "      background-color: #E8F0FE;\n",
              "      border: none;\n",
              "      border-radius: 50%;\n",
              "      cursor: pointer;\n",
              "      display: none;\n",
              "      fill: #1967D2;\n",
              "      height: 32px;\n",
              "      padding: 0 0 0 0;\n",
              "      width: 32px;\n",
              "    }\n",
              "\n",
              "    .colab-df-convert:hover {\n",
              "      background-color: #E2EBFA;\n",
              "      box-shadow: 0px 1px 2px rgba(60, 64, 67, 0.3), 0px 1px 3px 1px rgba(60, 64, 67, 0.15);\n",
              "      fill: #174EA6;\n",
              "    }\n",
              "\n",
              "    .colab-df-buttons div {\n",
              "      margin-bottom: 4px;\n",
              "    }\n",
              "\n",
              "    [theme=dark] .colab-df-convert {\n",
              "      background-color: #3B4455;\n",
              "      fill: #D2E3FC;\n",
              "    }\n",
              "\n",
              "    [theme=dark] .colab-df-convert:hover {\n",
              "      background-color: #434B5C;\n",
              "      box-shadow: 0px 1px 3px 1px rgba(0, 0, 0, 0.15);\n",
              "      filter: drop-shadow(0px 1px 2px rgba(0, 0, 0, 0.3));\n",
              "      fill: #FFFFFF;\n",
              "    }\n",
              "  </style>\n",
              "\n",
              "    <script>\n",
              "      const buttonEl =\n",
              "        document.querySelector('#df-be11ed9d-04f3-4d5f-bbe7-fc4c3030b673 button.colab-df-convert');\n",
              "      buttonEl.style.display =\n",
              "        google.colab.kernel.accessAllowed ? 'block' : 'none';\n",
              "\n",
              "      async function convertToInteractive(key) {\n",
              "        const element = document.querySelector('#df-be11ed9d-04f3-4d5f-bbe7-fc4c3030b673');\n",
              "        const dataTable =\n",
              "          await google.colab.kernel.invokeFunction('convertToInteractive',\n",
              "                                                    [key], {});\n",
              "        if (!dataTable) return;\n",
              "\n",
              "        const docLinkHtml = 'Like what you see? Visit the ' +\n",
              "          '<a target=\"_blank\" href=https://colab.research.google.com/notebooks/data_table.ipynb>data table notebook</a>'\n",
              "          + ' to learn more about interactive tables.';\n",
              "        element.innerHTML = '';\n",
              "        dataTable['output_type'] = 'display_data';\n",
              "        await google.colab.output.renderOutput(dataTable, element);\n",
              "        const docLink = document.createElement('div');\n",
              "        docLink.innerHTML = docLinkHtml;\n",
              "        element.appendChild(docLink);\n",
              "      }\n",
              "    </script>\n",
              "  </div>\n",
              "\n",
              "\n",
              "<div id=\"df-5211c317-4923-4906-b537-75227df2f9c8\">\n",
              "  <button class=\"colab-df-quickchart\" onclick=\"quickchart('df-5211c317-4923-4906-b537-75227df2f9c8')\"\n",
              "            title=\"Suggest charts\"\n",
              "            style=\"display:none;\">\n",
              "\n",
              "<svg xmlns=\"http://www.w3.org/2000/svg\" height=\"24px\"viewBox=\"0 0 24 24\"\n",
              "     width=\"24px\">\n",
              "    <g>\n",
              "        <path d=\"M19 3H5c-1.1 0-2 .9-2 2v14c0 1.1.9 2 2 2h14c1.1 0 2-.9 2-2V5c0-1.1-.9-2-2-2zM9 17H7v-7h2v7zm4 0h-2V7h2v10zm4 0h-2v-4h2v4z\"/>\n",
              "    </g>\n",
              "</svg>\n",
              "  </button>\n",
              "\n",
              "<style>\n",
              "  .colab-df-quickchart {\n",
              "      --bg-color: #E8F0FE;\n",
              "      --fill-color: #1967D2;\n",
              "      --hover-bg-color: #E2EBFA;\n",
              "      --hover-fill-color: #174EA6;\n",
              "      --disabled-fill-color: #AAA;\n",
              "      --disabled-bg-color: #DDD;\n",
              "  }\n",
              "\n",
              "  [theme=dark] .colab-df-quickchart {\n",
              "      --bg-color: #3B4455;\n",
              "      --fill-color: #D2E3FC;\n",
              "      --hover-bg-color: #434B5C;\n",
              "      --hover-fill-color: #FFFFFF;\n",
              "      --disabled-bg-color: #3B4455;\n",
              "      --disabled-fill-color: #666;\n",
              "  }\n",
              "\n",
              "  .colab-df-quickchart {\n",
              "    background-color: var(--bg-color);\n",
              "    border: none;\n",
              "    border-radius: 50%;\n",
              "    cursor: pointer;\n",
              "    display: none;\n",
              "    fill: var(--fill-color);\n",
              "    height: 32px;\n",
              "    padding: 0;\n",
              "    width: 32px;\n",
              "  }\n",
              "\n",
              "  .colab-df-quickchart:hover {\n",
              "    background-color: var(--hover-bg-color);\n",
              "    box-shadow: 0 1px 2px rgba(60, 64, 67, 0.3), 0 1px 3px 1px rgba(60, 64, 67, 0.15);\n",
              "    fill: var(--button-hover-fill-color);\n",
              "  }\n",
              "\n",
              "  .colab-df-quickchart-complete:disabled,\n",
              "  .colab-df-quickchart-complete:disabled:hover {\n",
              "    background-color: var(--disabled-bg-color);\n",
              "    fill: var(--disabled-fill-color);\n",
              "    box-shadow: none;\n",
              "  }\n",
              "\n",
              "  .colab-df-spinner {\n",
              "    border: 2px solid var(--fill-color);\n",
              "    border-color: transparent;\n",
              "    border-bottom-color: var(--fill-color);\n",
              "    animation:\n",
              "      spin 1s steps(1) infinite;\n",
              "  }\n",
              "\n",
              "  @keyframes spin {\n",
              "    0% {\n",
              "      border-color: transparent;\n",
              "      border-bottom-color: var(--fill-color);\n",
              "      border-left-color: var(--fill-color);\n",
              "    }\n",
              "    20% {\n",
              "      border-color: transparent;\n",
              "      border-left-color: var(--fill-color);\n",
              "      border-top-color: var(--fill-color);\n",
              "    }\n",
              "    30% {\n",
              "      border-color: transparent;\n",
              "      border-left-color: var(--fill-color);\n",
              "      border-top-color: var(--fill-color);\n",
              "      border-right-color: var(--fill-color);\n",
              "    }\n",
              "    40% {\n",
              "      border-color: transparent;\n",
              "      border-right-color: var(--fill-color);\n",
              "      border-top-color: var(--fill-color);\n",
              "    }\n",
              "    60% {\n",
              "      border-color: transparent;\n",
              "      border-right-color: var(--fill-color);\n",
              "    }\n",
              "    80% {\n",
              "      border-color: transparent;\n",
              "      border-right-color: var(--fill-color);\n",
              "      border-bottom-color: var(--fill-color);\n",
              "    }\n",
              "    90% {\n",
              "      border-color: transparent;\n",
              "      border-bottom-color: var(--fill-color);\n",
              "    }\n",
              "  }\n",
              "</style>\n",
              "\n",
              "  <script>\n",
              "    async function quickchart(key) {\n",
              "      const quickchartButtonEl =\n",
              "        document.querySelector('#' + key + ' button');\n",
              "      quickchartButtonEl.disabled = true;  // To prevent multiple clicks.\n",
              "      quickchartButtonEl.classList.add('colab-df-spinner');\n",
              "      try {\n",
              "        const charts = await google.colab.kernel.invokeFunction(\n",
              "            'suggestCharts', [key], {});\n",
              "      } catch (error) {\n",
              "        console.error('Error during call to suggestCharts:', error);\n",
              "      }\n",
              "      quickchartButtonEl.classList.remove('colab-df-spinner');\n",
              "      quickchartButtonEl.classList.add('colab-df-quickchart-complete');\n",
              "    }\n",
              "    (() => {\n",
              "      let quickchartButtonEl =\n",
              "        document.querySelector('#df-5211c317-4923-4906-b537-75227df2f9c8 button');\n",
              "      quickchartButtonEl.style.display =\n",
              "        google.colab.kernel.accessAllowed ? 'block' : 'none';\n",
              "    })();\n",
              "  </script>\n",
              "</div>\n",
              "\n",
              "  <div id=\"id_b134ae4d-727e-4e69-b1f5-ff34438d61bb\">\n",
              "    <style>\n",
              "      .colab-df-generate {\n",
              "        background-color: #E8F0FE;\n",
              "        border: none;\n",
              "        border-radius: 50%;\n",
              "        cursor: pointer;\n",
              "        display: none;\n",
              "        fill: #1967D2;\n",
              "        height: 32px;\n",
              "        padding: 0 0 0 0;\n",
              "        width: 32px;\n",
              "      }\n",
              "\n",
              "      .colab-df-generate:hover {\n",
              "        background-color: #E2EBFA;\n",
              "        box-shadow: 0px 1px 2px rgba(60, 64, 67, 0.3), 0px 1px 3px 1px rgba(60, 64, 67, 0.15);\n",
              "        fill: #174EA6;\n",
              "      }\n",
              "\n",
              "      [theme=dark] .colab-df-generate {\n",
              "        background-color: #3B4455;\n",
              "        fill: #D2E3FC;\n",
              "      }\n",
              "\n",
              "      [theme=dark] .colab-df-generate:hover {\n",
              "        background-color: #434B5C;\n",
              "        box-shadow: 0px 1px 3px 1px rgba(0, 0, 0, 0.15);\n",
              "        filter: drop-shadow(0px 1px 2px rgba(0, 0, 0, 0.3));\n",
              "        fill: #FFFFFF;\n",
              "      }\n",
              "    </style>\n",
              "    <button class=\"colab-df-generate\" onclick=\"generateWithVariable('result')\"\n",
              "            title=\"Generate code using this dataframe.\"\n",
              "            style=\"display:none;\">\n",
              "\n",
              "  <svg xmlns=\"http://www.w3.org/2000/svg\" height=\"24px\"viewBox=\"0 0 24 24\"\n",
              "       width=\"24px\">\n",
              "    <path d=\"M7,19H8.4L18.45,9,17,7.55,7,17.6ZM5,21V16.75L18.45,3.32a2,2,0,0,1,2.83,0l1.4,1.43a1.91,1.91,0,0,1,.58,1.4,1.91,1.91,0,0,1-.58,1.4L9.25,21ZM18.45,9,17,7.55Zm-12,3A5.31,5.31,0,0,0,4.9,8.1,5.31,5.31,0,0,0,1,6.5,5.31,5.31,0,0,0,4.9,4.9,5.31,5.31,0,0,0,6.5,1,5.31,5.31,0,0,0,8.1,4.9,5.31,5.31,0,0,0,12,6.5,5.46,5.46,0,0,0,6.5,12Z\"/>\n",
              "  </svg>\n",
              "    </button>\n",
              "    <script>\n",
              "      (() => {\n",
              "      const buttonEl =\n",
              "        document.querySelector('#id_b134ae4d-727e-4e69-b1f5-ff34438d61bb button.colab-df-generate');\n",
              "      buttonEl.style.display =\n",
              "        google.colab.kernel.accessAllowed ? 'block' : 'none';\n",
              "\n",
              "      buttonEl.onclick = () => {\n",
              "        google.colab.notebook.generateWithVariable('result');\n",
              "      }\n",
              "      })();\n",
              "    </script>\n",
              "  </div>\n",
              "\n",
              "    </div>\n",
              "  </div>\n"
            ],
            "application/vnd.google.colaboratory.intrinsic+json": {
              "type": "dataframe",
              "variable_name": "result",
              "summary": "{\n  \"name\": \"result\",\n  \"rows\": 27,\n  \"fields\": [\n    {\n      \"column\": \"Month\",\n      \"properties\": {\n        \"dtype\": \"period[M]\",\n        \"num_unique_values\": 27,\n        \"samples\": [\n          \"2025-02\",\n          \"2025-07\",\n          \"2025-03\"\n        ],\n        \"semantic_type\": \"\",\n        \"description\": \"\"\n      }\n    },\n    {\n      \"column\": \"Amount\",\n      \"properties\": {\n        \"dtype\": \"number\",\n        \"std\": 4720924.505700551,\n        \"min\": 567000.0,\n        \"max\": 20211520.0,\n        \"num_unique_values\": 27,\n        \"samples\": [\n          20211520.0,\n          4474214.0,\n          12078638.0\n        ],\n        \"semantic_type\": \"\",\n        \"description\": \"\"\n      }\n    }\n  ]\n}"
            }
          },
          "metadata": {},
          "execution_count": 104
        }
      ]
    },
    {
      "cell_type": "code",
      "source": [
        "# Saving the actual value\n",
        "y_actual = result['Amount'].values"
      ],
      "metadata": {
        "id": "o7PulEU5xwRK"
      },
      "id": "o7PulEU5xwRK",
      "execution_count": 105,
      "outputs": []
    },
    {
      "cell_type": "markdown",
      "source": [
        "## **To TF**"
      ],
      "metadata": {
        "id": "W4s9KgQiw76A"
      },
      "id": "W4s9KgQiw76A"
    },
    {
      "cell_type": "code",
      "source": [
        "# Input preparation\n",
        "window_size = 2\n",
        "data = result['Amount'].values.astype(np.float32).reshape(-1, 1)\n",
        "data = data[np.newaxis, :, :]"
      ],
      "metadata": {
        "id": "oEAkCVasx5dG"
      },
      "id": "oEAkCVasx5dG",
      "execution_count": 106,
      "outputs": []
    },
    {
      "cell_type": "code",
      "source": [
        "# Define MovingAverage Layer and Model\n",
        "class MovingAverage(tf.keras.layers.Layer):\n",
        "    def __init__(self, window_size, **kwargs):\n",
        "        super(MovingAverage, self).__init__(**kwargs)\n",
        "        self.window_size = window_size\n",
        "\n",
        "    def call(self, inputs):\n",
        "        cumsum = tf.cumsum(inputs, axis=1)\n",
        "        cumsum = tf.concat([tf.zeros_like(cumsum[:, :1]), cumsum], axis=1)\n",
        "        moving_avg = (cumsum[:, self.window_size:] - cumsum[:, :-self.window_size]) / self.window_size\n",
        "        return moving_avg[:, -1:]\n",
        "\n",
        "def create_moving_average_model(window_size):\n",
        "    inputs = tf.keras.Input(shape=(None, 1))\n",
        "    outputs = MovingAverage(window_size)(inputs)\n",
        "    model = tf.keras.Model(inputs, outputs)\n",
        "    return model\n",
        "\n",
        "# Create and compile the model\n",
        "model = create_moving_average_model(window_size)\n",
        "model.compile(optimizer='adam', loss='mse')"
      ],
      "metadata": {
        "id": "DEtUj-BWw5La"
      },
      "id": "DEtUj-BWw5La",
      "execution_count": 107,
      "outputs": []
    },
    {
      "cell_type": "markdown",
      "source": [
        "## **Prediction**"
      ],
      "metadata": {
        "id": "hnG_V14JyF1_"
      },
      "id": "hnG_V14JyF1_"
    },
    {
      "cell_type": "code",
      "source": [
        "# Predict the next month expense\n",
        "y_pred = model.predict(data)\n",
        "\n",
        "# Data last actual value (Comparison)\n",
        "actual_next_month_expense = y_actual[-1]\n",
        "\n",
        "# Predicted value\n",
        "predicted_next_month_expense = y_pred[0][0]"
      ],
      "metadata": {
        "colab": {
          "base_uri": "https://localhost:8080/"
        },
        "id": "4LP2z7mPyE68",
        "outputId": "fc6de6da-744b-4b03-b7f8-1c3ba621f6b6"
      },
      "id": "4LP2z7mPyE68",
      "execution_count": 108,
      "outputs": [
        {
          "output_type": "stream",
          "name": "stdout",
          "text": [
            "1/1 [==============================] - 0s 53ms/step\n"
          ]
        }
      ]
    },
    {
      "cell_type": "markdown",
      "source": [
        "### **JSON**"
      ],
      "metadata": {
        "id": "f3tSj-Fxy1ff"
      },
      "id": "f3tSj-Fxy1ff"
    },
    {
      "cell_type": "code",
      "source": [
        "# Save the prediction into a new row in DataFrame\n",
        "predicted_values = np.append([np.nan] * (window_size - 1), y_pred.flatten())\n",
        "\n",
        "# Ensure the length of predicted_values matches the length of the result dataframe\n",
        "predicted_values = np.append(predicted_values, [np.nan] * (len(result) - len(predicted_values)))\n",
        "\n",
        "# RUn orediction for every month using moving average\n",
        "for i in range(window_size, len(result)):\n",
        "    current_data = result['Amount'].values[:i].astype(np.float32).reshape(1, -1, 1)\n",
        "    y_pred = model.predict(current_data)\n",
        "    predicted_values[i] = y_pred[0][0]\n",
        "\n",
        "# Add the predicted values to the result dataframe\n",
        "result['Moving_Avg'] = predicted_values\n",
        "\n",
        "# Convert to JSON Format\n",
        "data = []\n",
        "for i in range(len(result)):\n",
        "    data.append({\n",
        "        \"month\": result['Month'].iloc[i].strftime('%Y-%m'),\n",
        "        \"actual\": float(result['Amount'].iloc[i]),\n",
        "        \"predicted\": float(result['Moving_Avg'].iloc[i]) if not np.isnan(result['Moving_Avg'].iloc[i]) else None\n",
        "    })\n",
        "\n",
        "json_data = {\n",
        "    \"data\": data\n",
        "}\n",
        "\n",
        "json_output = json.dumps(json_data, indent=4)\n",
        "print(json_output)"
      ],
      "metadata": {
        "colab": {
          "base_uri": "https://localhost:8080/"
        },
        "id": "zWAfeEeNy3i1",
        "outputId": "6b487d0b-bd89-4fc3-8386-af0229a0600d"
      },
      "id": "zWAfeEeNy3i1",
      "execution_count": 109,
      "outputs": [
        {
          "output_type": "stream",
          "name": "stdout",
          "text": [
            "1/1 [==============================] - 0s 48ms/step\n",
            "1/1 [==============================] - 0s 18ms/step\n",
            "1/1 [==============================] - 0s 17ms/step\n",
            "1/1 [==============================] - 0s 16ms/step\n"
          ]
        },
        {
          "output_type": "stream",
          "name": "stderr",
          "text": [
            "<ipython-input-109-7905196acbe2>:11: DeprecationWarning: Conversion of an array with ndim > 0 to a scalar is deprecated, and will error in future. Ensure you extract a single element from your array before performing this operation. (Deprecated NumPy 1.25.)\n",
            "  predicted_values[i] = y_pred[0][0]\n"
          ]
        },
        {
          "output_type": "stream",
          "name": "stdout",
          "text": [
            "1/1 [==============================] - 0s 20ms/step\n",
            "1/1 [==============================] - 0s 21ms/step\n",
            "1/1 [==============================] - 0s 19ms/step\n",
            "1/1 [==============================] - 0s 17ms/step\n",
            "1/1 [==============================] - 0s 18ms/step\n",
            "1/1 [==============================] - 0s 17ms/step\n",
            "1/1 [==============================] - 0s 17ms/step\n",
            "1/1 [==============================] - 0s 16ms/step\n",
            "1/1 [==============================] - 0s 16ms/step\n",
            "1/1 [==============================] - 0s 17ms/step\n",
            "1/1 [==============================] - 0s 17ms/step\n",
            "1/1 [==============================] - 0s 17ms/step\n",
            "1/1 [==============================] - 0s 17ms/step\n",
            "1/1 [==============================] - 0s 17ms/step\n",
            "1/1 [==============================] - 0s 21ms/step\n",
            "1/1 [==============================] - 0s 18ms/step\n",
            "1/1 [==============================] - 0s 22ms/step\n",
            "1/1 [==============================] - 0s 20ms/step\n",
            "1/1 [==============================] - 0s 18ms/step\n",
            "1/1 [==============================] - 0s 16ms/step\n",
            "1/1 [==============================] - 0s 17ms/step\n",
            "{\n",
            "    \"data\": [\n",
            "        {\n",
            "            \"month\": \"2024-06\",\n",
            "            \"actual\": 5264714.0,\n",
            "            \"predicted\": null\n",
            "        },\n",
            "        {\n",
            "            \"month\": \"2024-07\",\n",
            "            \"actual\": 8410999.0,\n",
            "            \"predicted\": 1826600.0\n",
            "        },\n",
            "        {\n",
            "            \"month\": \"2024-08\",\n",
            "            \"actual\": 3203499.0,\n",
            "            \"predicted\": 6837856.5\n",
            "        },\n",
            "        {\n",
            "            \"month\": \"2024-09\",\n",
            "            \"actual\": 7765956.0,\n",
            "            \"predicted\": 5807249.0\n",
            "        },\n",
            "        {\n",
            "            \"month\": \"2024-10\",\n",
            "            \"actual\": 4225275.0,\n",
            "            \"predicted\": 5484727.5\n",
            "        },\n",
            "        {\n",
            "            \"month\": \"2024-11\",\n",
            "            \"actual\": 6545435.0,\n",
            "            \"predicted\": 5995616.0\n",
            "        },\n",
            "        {\n",
            "            \"month\": \"2024-12\",\n",
            "            \"actual\": 7420712.0,\n",
            "            \"predicted\": 5385356.0\n",
            "        },\n",
            "        {\n",
            "            \"month\": \"2025-01\",\n",
            "            \"actual\": 12156877.0,\n",
            "            \"predicted\": 6983074.0\n",
            "        },\n",
            "        {\n",
            "            \"month\": \"2025-02\",\n",
            "            \"actual\": 20211520.0,\n",
            "            \"predicted\": 9788794.0\n",
            "        },\n",
            "        {\n",
            "            \"month\": \"2025-03\",\n",
            "            \"actual\": 12078638.0,\n",
            "            \"predicted\": 16184200.0\n",
            "        },\n",
            "        {\n",
            "            \"month\": \"2025-04\",\n",
            "            \"actual\": 7850744.0,\n",
            "            \"predicted\": 16145082.0\n",
            "        },\n",
            "        {\n",
            "            \"month\": \"2025-05\",\n",
            "            \"actual\": 13068743.0,\n",
            "            \"predicted\": 9964692.0\n",
            "        },\n",
            "        {\n",
            "            \"month\": \"2025-06\",\n",
            "            \"actual\": 10011863.0,\n",
            "            \"predicted\": 10459744.0\n",
            "        },\n",
            "        {\n",
            "            \"month\": \"2025-07\",\n",
            "            \"actual\": 4474214.0,\n",
            "            \"predicted\": 11540304.0\n",
            "        },\n",
            "        {\n",
            "            \"month\": \"2025-08\",\n",
            "            \"actual\": 748000.0,\n",
            "            \"predicted\": 7243040.0\n",
            "        },\n",
            "        {\n",
            "            \"month\": \"2025-09\",\n",
            "            \"actual\": 2097999.0,\n",
            "            \"predicted\": 2611108.0\n",
            "        },\n",
            "        {\n",
            "            \"month\": \"2025-10\",\n",
            "            \"actual\": 1572000.0,\n",
            "            \"predicted\": 1423000.0\n",
            "        },\n",
            "        {\n",
            "            \"month\": \"2025-11\",\n",
            "            \"actual\": 6179000.0,\n",
            "            \"predicted\": 1835000.0\n",
            "        },\n",
            "        {\n",
            "            \"month\": \"2025-12\",\n",
            "            \"actual\": 567000.0,\n",
            "            \"predicted\": 3875500.0\n",
            "        },\n",
            "        {\n",
            "            \"month\": \"2026-01\",\n",
            "            \"actual\": 2964270.0,\n",
            "            \"predicted\": 3373000.0\n",
            "        },\n",
            "        {\n",
            "            \"month\": \"2026-02\",\n",
            "            \"actual\": 2314286.0,\n",
            "            \"predicted\": 1765636.0\n",
            "        },\n",
            "        {\n",
            "            \"month\": \"2026-03\",\n",
            "            \"actual\": 2987107.0,\n",
            "            \"predicted\": 2639280.0\n",
            "        },\n",
            "        {\n",
            "            \"month\": \"2026-04\",\n",
            "            \"actual\": 1672132.0,\n",
            "            \"predicted\": 2650696.0\n",
            "        },\n",
            "        {\n",
            "            \"month\": \"2026-05\",\n",
            "            \"actual\": 1908967.0,\n",
            "            \"predicted\": 2329616.0\n",
            "        },\n",
            "        {\n",
            "            \"month\": \"2026-06\",\n",
            "            \"actual\": 1787828.0,\n",
            "            \"predicted\": 1790544.0\n",
            "        },\n",
            "        {\n",
            "            \"month\": \"2026-07\",\n",
            "            \"actual\": 2349724.0,\n",
            "            \"predicted\": 1848392.0\n",
            "        },\n",
            "        {\n",
            "            \"month\": \"2026-08\",\n",
            "            \"actual\": 1303468.0,\n",
            "            \"predicted\": 2068776.0\n",
            "        }\n",
            "    ]\n",
            "}\n"
          ]
        }
      ]
    },
    {
      "cell_type": "markdown",
      "source": [
        "### **Convert to TFLite**"
      ],
      "metadata": {
        "id": "G9KKSyL5E8M_"
      },
      "id": "G9KKSyL5E8M_"
    },
    {
      "cell_type": "code",
      "source": [
        "# Convert the model to TFLite format\n",
        "converter = tf.lite.TFLiteConverter.from_keras_model(model)\n",
        "tflite_model = converter.convert()\n",
        "\n",
        "# Save the TFLite model\n",
        "with open('moving_average_model.tflite', 'wb') as f:\n",
        "    f.write(tflite_model)"
      ],
      "metadata": {
        "id": "jifRT3A58a_6"
      },
      "id": "jifRT3A58a_6",
      "execution_count": 110,
      "outputs": []
    },
    {
      "cell_type": "markdown",
      "source": [
        "### ** Mean Absolute Error(MAE)**"
      ],
      "metadata": {
        "id": "BQQQeYmMtlzx"
      },
      "id": "BQQQeYmMtlzx"
    },
    {
      "cell_type": "code",
      "source": [
        "# Hitung Mean Absolute Error (MAE)\n",
        "mae = mean_absolute_error([actual_next_month_expense], [predicted_next_month_expense])\n",
        "print(f\"Mean Absolute Error (MAE): {mae}\")"
      ],
      "metadata": {
        "colab": {
          "base_uri": "https://localhost:8080/"
        },
        "id": "8AOmM05rtsb_",
        "outputId": "aebd7efa-e775-401e-fa96-b99adda1786c"
      },
      "id": "8AOmM05rtsb_",
      "execution_count": 111,
      "outputs": [
        {
          "output_type": "stream",
          "name": "stdout",
          "text": [
            "Mean Absolute Error (MAE): 523132.0\n"
          ]
        }
      ]
    },
    {
      "cell_type": "markdown",
      "source": [
        "### ** Mean Absolute Percentage Error (MAPE)**"
      ],
      "metadata": {
        "id": "EiSAyZA69ab5"
      },
      "id": "EiSAyZA69ab5"
    },
    {
      "cell_type": "code",
      "source": [
        "# Filter out NaN values from predictions for valid calculation\n",
        "valid_idx = ~np.isnan(result['Moving_Avg'])\n",
        "y_actual_valid = y_actual[valid_idx]\n",
        "y_pred_valid = result['Moving_Avg'][valid_idx]\n",
        "\n",
        "# Count Mean Absolute Percentage Error (MAPE)\n",
        "mape = np.mean(np.abs((y_actual_valid - y_pred_valid) / y_actual_valid)) * 100\n",
        "print(f\"Mean Absolute Percentage Error (MAPE): {mape:.2f}%\")"
      ],
      "metadata": {
        "colab": {
          "base_uri": "https://localhost:8080/"
        },
        "id": "NDbfDjCv_chH",
        "outputId": "b87fde74-f50e-4cf5-e1fb-dfc14d57f337"
      },
      "id": "NDbfDjCv_chH",
      "execution_count": 112,
      "outputs": [
        {
          "output_type": "stream",
          "name": "stdout",
          "text": [
            "Mean Absolute Percentage Error (MAPE): 94.94%\n"
          ]
        }
      ]
    },
    {
      "cell_type": "markdown",
      "source": [
        "### ** Root Mean Squared Error (RMSE)**"
      ],
      "metadata": {
        "id": "_xrProGX_H33"
      },
      "id": "_xrProGX_H33"
    },
    {
      "cell_type": "code",
      "source": [
        "# Count Root Mean Squared Error (RMSE)\n",
        "rmse = np.sqrt(mean_squared_error(y_actual_valid, y_pred_valid))\n",
        "print(f\"Root Mean Squared Error (RMSE): {rmse}\")"
      ],
      "metadata": {
        "colab": {
          "base_uri": "https://localhost:8080/"
        },
        "id": "203nNCtoBu1e",
        "outputId": "9e3d26d2-9eff-4eb2-81ae-23cce00fdf40"
      },
      "id": "203nNCtoBu1e",
      "execution_count": 113,
      "outputs": [
        {
          "output_type": "stream",
          "name": "stdout",
          "text": [
            "Root Mean Squared Error (RMSE): 4029207.0897806045\n"
          ]
        }
      ]
    },
    {
      "cell_type": "markdown",
      "source": [
        "### **Coefficient of Determination (R-squared)**"
      ],
      "metadata": {
        "id": "ObkxVX9K_W0V"
      },
      "id": "ObkxVX9K_W0V"
    },
    {
      "cell_type": "code",
      "source": [
        "# Count Coefficient of Determination (R-squared)\n",
        "r2 = r2_score(y_actual_valid, y_pred_valid)\n",
        "print(f\"Coefficient of Determination (R-squared): {r2}\")"
      ],
      "metadata": {
        "colab": {
          "base_uri": "https://localhost:8080/"
        },
        "id": "86yKD5ThBz1x",
        "outputId": "d4bb9499-cb9f-4e9f-eccf-13e4c05bb84b"
      },
      "id": "86yKD5ThBz1x",
      "execution_count": 114,
      "outputs": [
        {
          "output_type": "stream",
          "name": "stdout",
          "text": [
            "Coefficient of Determination (R-squared): 0.27142975065567854\n"
          ]
        }
      ]
    },
    {
      "cell_type": "code",
      "execution_count": 115,
      "id": "a74104ea",
      "metadata": {
        "id": "a74104ea"
      },
      "outputs": [],
      "source": [
        "result = df.groupby('Month')['Amount'].sum().reset_index()\n",
        "df['Month'] = df['Date'].dt.to_period('M')\n",
        "result['Month'] = result['Month'].dt.to_timestamp()"
      ]
    },
    {
      "cell_type": "markdown",
      "source": [
        "# **Prediction**"
      ],
      "metadata": {
        "id": "GHEc2N77RN58"
      },
      "id": "GHEc2N77RN58"
    },
    {
      "cell_type": "code",
      "source": [
        "window_size = 2\n",
        "result['Moving_Avg'] = result['Amount'].rolling(window=window_size).mean()\n",
        "\n",
        "def predict_next_month(expenses, window_size):\n",
        "    return expenses.rolling(window=window_size).mean().iloc[-1]\n",
        "\n",
        "next_month_expense_prediction = predict_next_month(result['Amount'], window_size)\n",
        "\n",
        "next_month_expense_prediction"
      ],
      "metadata": {
        "colab": {
          "base_uri": "https://localhost:8080/"
        },
        "id": "w8Xzh1M4k6gF",
        "outputId": "5b4b54f4-492e-40ee-f63f-5f510efcf41b"
      },
      "id": "w8Xzh1M4k6gF",
      "execution_count": 116,
      "outputs": [
        {
          "output_type": "execute_result",
          "data": {
            "text/plain": [
              "1826596.0"
            ]
          },
          "metadata": {},
          "execution_count": 116
        }
      ]
    },
    {
      "cell_type": "markdown",
      "source": [
        "# **Plot**"
      ],
      "metadata": {
        "id": "aqYV_oL2RxdA"
      },
      "id": "aqYV_oL2RxdA"
    },
    {
      "cell_type": "code",
      "source": [
        "plt.figure(figsize=(25, 6))\n",
        "plt.plot(result['Month'], result['Amount'], label='Actual', marker='o')\n",
        "plt.plot(result['Month'], result['Moving_Avg'], label='Moving Avg (Window=2)', marker='o')\n",
        "plt.title('Monthly Expenses with Moving Average')\n",
        "plt.xlabel('Month')\n",
        "plt.ylabel('Expense Amount')\n",
        "plt.legend()\n",
        "plt.grid(True)\n",
        "\n",
        "#tambahan\n",
        "plt.gca().xaxis.set_major_formatter(plt.matplotlib.dates.DateFormatter('%Y-%m'))\n",
        "plt.gca().xaxis.set_major_locator(mdates.MonthLocator())\n",
        "\n",
        "plt.show()\n",
        "\n",
        "print(\"Prediksi pengeluaran bulan depan:\", next_month_expense_prediction)"
      ],
      "metadata": {
        "colab": {
          "base_uri": "https://localhost:8080/",
          "height": 305
        },
        "id": "SL_1TNUzjerY",
        "outputId": "fa37687c-ca54-46b4-deff-bb7d7e16196a"
      },
      "id": "SL_1TNUzjerY",
      "execution_count": 117,
      "outputs": [
        {
          "output_type": "display_data",
          "data": {
            "text/plain": [
              "<Figure size 2500x600 with 1 Axes>"
            ],
            "image/png": "[encoded data removed]"
          },
          "metadata": {}
        },
        {
          "output_type": "stream",
          "name": "stdout",
          "text": [
            "Prediksi pengeluaran bulan depan: 1826596.0\n"
          ]
        }
      ]
    }
  ],
  "metadata": {
    "colab": {
      "provenance": [],
      "gpuType": "T4"
    },
    "language_info": {
      "name": "python"
    },
    "kernelspec": {
      "name": "python3",
      "display_name": "Python 3"
    },
    "accelerator": "GPU"
  },
  "nbformat": 4,
  "nbformat_minor": 5
}